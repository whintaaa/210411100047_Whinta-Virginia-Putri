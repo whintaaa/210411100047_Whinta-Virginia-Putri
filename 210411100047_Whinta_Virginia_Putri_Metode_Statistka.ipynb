{
  "nbformat": 4,
  "nbformat_minor": 0,
  "metadata": {
    "colab": {
      "name": "210411100047_Whinta Virginia Putri_Metode Statistka.ipynb",
      "provenance": [],
      "collapsed_sections": [],
      "authorship_tag": "ABX9TyPXSwOQxpP0FRqI7aHxu+LF",
      "include_colab_link": true
    },
    "kernelspec": {
      "name": "python3",
      "display_name": "Python 3"
    },
    "language_info": {
      "name": "python"
    }
  },
  "cells": [
    {
      "cell_type": "markdown",
      "metadata": {
        "id": "view-in-github",
        "colab_type": "text"
      },
      "source": [
        "<a href=\"https://colab.research.google.com/github/whintaaa/210411100047_Whinta-Virginia-Putri/blob/main/210411100047_Whinta_Virginia_Putri_Metode_Statistka.ipynb\" target=\"_parent\"><img src=\"https://colab.research.google.com/assets/colab-badge.svg\" alt=\"Open In Colab\"/></a>"
      ]
    },
    {
      "cell_type": "markdown",
      "source": [
        "# Exponential Smoothing"
      ],
      "metadata": {
        "id": "A4G_FJDDpt6W"
      }
    },
    {
      "cell_type": "markdown",
      "source": [
        "Exponential smoothing atau bisa disebut dengan Penghalusan Eksponensial adalah suatu metode peramalan rata-rata bergerak yang memberikan bobot secara eksponensial atau bertingkat pada data-data terbarunya sehingga data-data terbaru tersebut akan mendapatkan bobot yang lebih besar. Dengan kata lain, semakin baru atau semakin kini datanya, semakin besar pula bobotnya. Hal ini dikarenakan data yang terbaru dianggap lebih relavan sehingga diberikan bobot yang lebih besar. Parameter penghalusan (smoothing) biasanya dilambangkan dengan α (alpha).\n",
        "\n",
        "**Pengertian Exponential Smoothing menurut para Ahli :**\n",
        "\n",
        "Menurut Render dan Heizer (2005), Penghalusan exponential adalah teknik peramalan rata-rata bergerak dengan pembobotan dimana data diberi bobot oleh sebuah fungsi exponential.\n",
        "\n",
        "Menurut Trihendradi (2005), analisis exponential smoothing merupakan salah satu analisis deret waktu, dan merupakan metode peramalan dengan memberi nilai pembobot pada serangkaian pengamatan sebelumnya untuk memprediksi nilai masa depan.\n",
        "\n",
        "Menurut T. Hani Handoko (2011), Exponential Smoothing adalah suatu tipe teknik peramalan rata-rata bergerak yang melakukan penimbangan terhadap data masa lalu dengan cara eksponensial sehingga data paling akhir mempunyai bobot atau timbangan lebih besar dalam rata-rata bergerak.\n",
        "\n"
      ],
      "metadata": {
        "id": "LpTvwsgep32t"
      }
    },
    {
      "cell_type": "markdown",
      "source": [
        "**Cara Menghitung Exponential Smoothing :**\n",
        "\n",
        "Rumus Exponential Smoothing (Penghalusan Eksponensial)\n",
        "\n",
        "Ft+1=α yt+(1−α)Ft\n",
        "\n",
        "* Ft+1 = Nilai peramalan untuk periode t+1\n",
        "* yt = Data sebenarnya pada periode t\n",
        "* Ft = Nilai ramalan periode t\n",
        "* α = konstanta penghalusan (0 < α < 1)\n"
      ],
      "metadata": {
        "id": "uv6BCLzbqVQq"
      }
    },
    {
      "cell_type": "markdown",
      "source": [
        "**Contoh Kasus Cara Menghitung Exponential Smoothing**\n",
        "\n",
        "Sebuah perusahaan yang menjual basreng ingin membuat perkiraan penjualan produknya di pasar. Metode yang digunakan adalah metode Penghalusan Eksponensial atau Exponential Smoothing. Perusahaan tersebut menggunakan Konstanta  α = 0,1. "
      ],
      "metadata": {
        "id": "iN8tgN-AxmCl"
      }
    },
    {
      "cell_type": "markdown",
      "source": [
        "**Berikut data aktual serta hasil ramalan kurun waktu 01/10/2002 - 01/12/2022 :**"
      ],
      "metadata": {
        "id": "AVypVGnmyDqi"
      }
    },
    {
      "cell_type": "code",
      "source": [
        "from google.colab import files\n",
        "uploaded = files.upload()"
      ],
      "metadata": {
        "colab": {
          "resources": {
            "http://localhost:8080/nbextensions/google.colab/files.js": {
              "data": "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",
              "ok": true,
              "headers": [
                [
                  "content-type",
                  "application/javascript"
                ]
              ],
              "status": 200,
              "status_text": ""
            }
          },
          "base_uri": "https://localhost:8080/",
          "height": 73
        },
        "id": "LK9xhL7MyiF8",
        "outputId": "d568f3a7-d0b3-4d50-c4c2-503cc639afb9"
      },
      "execution_count": null,
      "outputs": [
        {
          "output_type": "display_data",
          "data": {
            "text/plain": [
              "<IPython.core.display.HTML object>"
            ],
            "text/html": [
              "\n",
              "     <input type=\"file\" id=\"files-139b5320-cec0-4316-8934-c8694874ca11\" name=\"files[]\" multiple disabled\n",
              "        style=\"border:none\" />\n",
              "     <output id=\"result-139b5320-cec0-4316-8934-c8694874ca11\">\n",
              "      Upload widget is only available when the cell has been executed in the\n",
              "      current browser session. Please rerun this cell to enable.\n",
              "      </output>\n",
              "      <script src=\"/nbextensions/google.colab/files.js\"></script> "
            ]
          },
          "metadata": {}
        },
        {
          "output_type": "stream",
          "name": "stdout",
          "text": [
            "Saving exsmbasreng.csv to exsmbasreng.csv\n"
          ]
        }
      ]
    },
    {
      "cell_type": "code",
      "source": [
        "# Mengimpor library\n",
        "import matplotlib.pyplot as plt\n",
        "import pandas as pd\n",
        " \n",
        "# Mengimpor dataset\n",
        "dataset = pd.read_csv('exsmbasreng.csv')\n",
        "dataset['Tanggal'] = pd.to_datetime(dataset['Tanggal'])\n",
        "print(dataset.to_string())"
      ],
      "metadata": {
        "colab": {
          "base_uri": "https://localhost:8080/"
        },
        "id": "JnYKWEKPynWy",
        "outputId": "dc8f2cd3-6c88-4e19-a0f9-5c410aa97401"
      },
      "execution_count": null,
      "outputs": [
        {
          "output_type": "stream",
          "name": "stdout",
          "text": [
            "       Tanggal  penjualan aktual  Hasil Ramalan ES (a=0,1)  Hasil Ramalan ES (a=0,8)\n",
            "0   2002-01-10             290.0                       NaN                       NaN\n",
            "1   2002-01-11             312.0                290.000000                290.000000\n",
            "2   2002-01-12             241.0                309.800000                294.400000\n",
            "3   2003-01-01             290.0                247.880000                283.720000\n",
            "4   2003-01-02             287.0                285.788000                284.976000\n",
            "5   2003-01-03             276.0                286.878800                285.380800\n",
            "6   2003-01-04             289.0                277.087880                283.504640\n",
            "7   2003-01-05             290.0                287.808788                284.603712\n",
            "8   2003-01-06             289.0                289.780879                285.682970\n",
            "9   2003-01-07             291.0                289.078088                286.346376\n",
            "10  2003-01-08             301.0                290.807809                287.277101\n",
            "11  2003-01-09             295.0                299.980781                290.021680\n",
            "12  2003-01-10             298.0                295.498078                291.017344\n",
            "13  2003-01-11             305.0                297.749808                292.413876\n",
            "14  2003-01-12             400.0                304.274981                294.931100\n",
            "15  2004-01-01             340.0                390.427498                315.944880\n",
            "16  2004-01-02             280.0                345.042750                320.755904\n",
            "17  2004-01-03             340.0                286.504275                312.604723\n",
            "18  2004-01-04             310.0                334.650427                318.083779\n",
            "19  2004-01-05             406.0                312.465043                316.467023\n",
            "20  2004-01-06             340.0                396.646504                334.373618\n",
            "21  2004-01-07             280.0                345.664650                335.498895\n",
            "22  2004-01-08             440.0                286.566465                324.399116\n",
            "23  2004-01-09             290.0                424.656647                347.519293\n",
            "24  2004-01-10             340.0                303.465665                336.015434\n",
            "25  2004-01-11             365.0                336.346566                336.812347\n",
            "26  2004-01-12             377.0                362.134657                342.449878\n",
            "27  2005-01-01             370.0                375.513466                349.359902\n",
            "28  2005-01-02             289.0                370.551347                353.487922\n",
            "29  2005-01-03             345.0                297.155135                340.590337\n",
            "30  2005-01-04             340.0                340.215513                341.472270\n",
            "31  2005-01-05             196.0                340.021551                341.177816\n",
            "32  2005-01-06             334.0                210.402155                312.142253\n",
            "33  2005-01-07             567.0                321.640216                316.513802\n",
            "34  2005-01-08             370.0                542.464022                366.611042\n",
            "35  2005-01-09             424.0                387.246402                367.288833\n",
            "36  2005-01-10             356.0                420.324640                378.631067\n",
            "37  2005-01-11             390.0                362.432464                374.104853\n",
            "38  2005-01-12             390.0                387.243246                377.283883\n",
            "39  2006-01-01             380.0                389.724325                379.827106\n",
            "40  2006-01-02             390.0                380.972433                379.861685\n",
            "41  2006-01-03             387.0                389.097243                381.889348\n",
            "42  2006-01-04             403.0                387.209724                382.911478\n",
            "43  2006-01-05             385.0                401.420972                386.929183\n",
            "44  2006-01-06             399.0                386.642097                386.543346\n",
            "45  2006-01-07             258.0                397.764210                389.034677\n",
            "46  2006-01-08             350.0                271.976421                362.827742\n",
            "47  2006-01-09             340.0                342.197642                360.262193\n",
            "48  2006-01-10             310.0                340.219764                356.209755\n",
            "49  2006-01-11             340.0                313.021976                346.967804\n",
            "50  2006-01-12             290.0                337.302198                345.574243\n",
            "51  2007-01-01             340.0                294.730220                334.459394\n",
            "52  2007-01-02             490.0                335.473022                335.567516\n",
            "53  2007-01-03             472.0                474.547302                366.454012\n",
            "54  2007-01-04             506.0                472.254730                387.563210\n",
            "55  2007-01-05             440.0                502.625473                411.250568\n",
            "56  2007-01-06             473.0                446.262547                417.000454\n",
            "57  2007-01-07             544.0                470.326255                428.200363\n",
            "58  2007-01-08             500.0                536.632626                451.360291\n",
            "59  2007-01-09             520.0                503.663262                461.088233\n",
            "60  2007-01-10             368.0                518.366326                472.870586\n",
            "61  2007-01-11             470.0                383.036633                451.896469\n",
            "62  2007-01-12             460.0                461.303663                455.517175\n",
            "63  2008-01-01             413.0                460.130366                456.413740\n",
            "64  2008-01-02             389.0                417.713037                447.730992\n",
            "65  2008-01-03             425.0                391.871304                435.984794\n",
            "66  2008-01-04             439.0                421.687130                433.787835\n",
            "67  2008-01-05             298.0                437.268713                434.830268\n",
            "68  2008-01-06             387.0                311.926871                407.464214\n",
            "69  2008-01-07             375.0                379.492687                403.371372\n",
            "70  2008-01-08             380.0                375.449269                397.697097\n",
            "71  2008-01-09             340.0                379.544927                394.157678\n",
            "72  2008-01-10             368.0                343.954493                383.326142\n",
            "73  2008-01-11             347.0                365.595449                380.260914\n",
            "74  2008-01-12             356.0                348.859545                373.608731\n",
            "75  2009-01-01             380.0                355.285955                370.086985\n",
            "76  2009-01-02             278.0                377.528595                372.069588\n",
            "77  2009-01-03             340.0                287.952859                353.255670\n",
            "78  2009-01-04             425.0                334.795286                350.604536\n",
            "79  2009-01-05             340.0                415.979529                365.483629\n",
            "80  2009-01-06             371.0                347.597953                360.386903\n",
            "81  2009-01-07             380.0                368.659795                362.509523\n",
            "82  2009-01-08             299.0                378.865979                366.007618\n",
            "83  2009-01-09             370.0                306.986598                352.606094\n",
            "84  2009-01-10             352.0                363.698660                356.084876\n",
            "85  2009-01-11             340.0                353.169866                355.267900\n",
            "86  2009-01-12             360.0                341.316987                352.214320\n",
            "87  2010-01-01             354.0                358.131699                353.771456\n",
            "88  2010-01-02             356.0                354.413170                353.817165\n",
            "89  2010-01-03             230.0                355.841317                354.253732\n",
            "90  2010-01-04             250.0                242.584132                329.402986\n",
            "91  2010-01-05             320.0                249.258413                313.522388\n",
            "92  2010-01-06             340.0                312.925841                314.817911\n",
            "93  2010-01-07             299.0                337.292584                319.854329\n",
            "94  2010-01-08             323.0                302.829258                315.683463\n",
            "95  2010-01-09             310.0                320.982926                317.146770\n",
            "96  2010-01-10             330.0                311.098293                315.717416\n",
            "97  2010-01-11             325.0                328.109829                318.573933\n",
            "98  2010-01-12             340.0                325.310983                319.859146\n",
            "99  2011-01-01             279.0                338.531098                323.887317\n",
            "100 2011-01-02             320.0                284.953110                314.909854\n",
            "101 2011-01-03             320.0                316.495311                315.927883\n",
            "102 2011-01-04             340.0                319.649531                316.742306\n",
            "103 2011-01-05             290.0                337.964953                321.393845\n",
            "104 2011-01-06             327.0                294.796495                315.115076\n",
            "105 2011-01-07             330.0                323.779650                317.492061\n",
            "106 2011-01-08             268.0                329.377965                319.993649\n",
            "107 2011-01-09             320.0                274.137796                309.594919\n",
            "108 2011-01-10             316.0                315.413780                311.675935\n",
            "109 2011-01-11             323.0                315.941378                312.540748\n",
            "110 2011-01-12             322.0                322.294138                314.632598\n",
            "111 2012-01-01             320.0                322.029414                316.106079\n",
            "112 2012-01-02             340.0                320.202941                316.884863\n",
            "113 2012-01-03             360.0                338.020294                321.507890\n",
            "114 2012-01-04             345.0                357.802029                329.206312\n",
            "115 2012-01-05             361.0                346.280203                332.365050\n",
            "116 2012-01-06             358.0                359.528020                338.092040\n",
            "117 2012-01-07             355.0                358.152802                342.073632\n",
            "118 2012-01-08             390.0                355.315280                344.658906\n",
            "119 2012-01-09             370.0                386.531528                353.727124\n",
            "120 2012-01-10             380.0                371.653153                356.981699\n",
            "121 2012-01-11             380.0                379.165315                361.585360\n",
            "122 2012-01-12             378.0                379.916532                365.268288\n",
            "123 2013-01-01             380.0                378.191653                367.814630\n",
            "124 2013-01-02             379.0                379.819165                370.251704\n",
            "125 2013-01-03             279.0                379.081916                372.001363\n",
            "126 2013-01-04             360.0                289.008192                353.401091\n",
            "127 2013-01-05             355.0                352.900819                354.720872\n",
            "128 2013-01-06             358.0                354.790082                354.776698\n",
            "129 2013-01-07             358.0                357.679008                355.421358\n",
            "130 2013-01-08             403.0                357.967901                355.937087\n",
            "131 2013-01-09             385.0                398.496790                365.349669\n",
            "132 2013-01-10             399.0                386.349679                369.279736\n",
            "133 2013-01-11             258.0                397.734968                375.223788\n",
            "134 2013-01-12             350.0                271.973497                351.779031\n",
            "135 2014-01-01             340.0                342.197350                351.423225\n",
            "136 2014-01-02             310.0                340.219735                349.138580\n",
            "137 2014-01-03             340.0                313.021974                341.310864\n",
            "138 2014-01-04             290.0                337.302197                341.048691\n",
            "139 2014-01-05             340.0                294.730220                330.838953\n",
            "140 2014-01-06             490.0                335.473022                332.671162\n",
            "141 2014-01-07             298.0                474.547302                364.136930\n",
            "142 2014-01-08             305.0                315.654730                350.909544\n",
            "143 2014-01-09             400.0                306.065473                341.727635\n",
            "144 2014-01-10             340.0                390.606547                353.382108\n",
            "145 2014-01-11             280.0                345.060655                350.705686\n",
            "146 2014-01-12             340.0                286.506065                336.564549\n",
            "147 2015-01-01             310.0                334.650606                337.251639\n",
            "148 2015-01-02             406.0                312.465061                331.801311\n",
            "149 2015-01-03             380.0                396.646506                346.641049\n",
            "150 2015-01-04             378.0                381.664651                353.312839\n",
            "151 2015-01-05             380.0                378.366465                358.250271\n",
            "152 2015-01-06             379.0                379.836646                362.600217\n",
            "153 2015-01-07             279.0                379.083665                365.880174\n",
            "154 2015-01-08             360.0                289.008367                348.504139\n",
            "155 2015-01-09             355.0                352.900837                350.803311\n",
            "156 2015-01-10             358.0                354.790084                351.642649\n",
            "157 2015-01-11             358.0                357.679008                352.914119\n",
            "158 2015-01-12             403.0                357.967901                353.931295\n",
            "159 2016-01-01             385.0                398.496790                363.745036\n",
            "160 2016-01-02             399.0                386.349679                367.996029\n",
            "161 2016-01-03             258.0                397.734968                374.196823\n",
            "162 2016-01-04             350.0                271.973497                350.957459\n",
            "163 2016-01-05             340.0                342.197350                350.765967\n",
            "164 2016-01-06             310.0                340.219735                348.612774\n",
            "165 2016-01-07             361.0                313.021974                340.890219\n",
            "166 2016-01-08             358.0                356.202197                344.912175\n",
            "167 2016-01-09             355.0                357.820220                347.529740\n",
            "168 2016-01-10             390.0                355.282022                349.023792\n",
            "169 2016-01-11             370.0                386.528202                357.219034\n",
            "170 2016-01-12             380.0                371.652820                359.775227\n",
            "171 2017-01-01             380.0                379.165282                363.820181\n",
            "172 2017-01-02             378.0                379.916528                367.056145\n",
            "173 2017-01-03             380.0                378.191653                369.244916\n",
            "174 2017-01-04             425.0                379.819165                371.395933\n",
            "175 2017-01-05             340.0                420.481917                382.116746\n",
            "176 2017-01-06             371.0                348.048192                373.693397\n",
            "177 2017-01-07             380.0                368.704819                373.154718\n",
            "178 2017-01-08             299.0                378.870482                374.523774\n",
            "179 2017-01-09             370.0                306.987048                359.419019\n",
            "180 2017-01-10             352.0                363.698705                361.535215\n",
            "181 2017-01-11             340.0                353.169871                359.628172\n",
            "182 2017-01-12             360.0                341.316987                355.702538\n",
            "183 2018-01-01             354.0                358.131699                356.562030\n",
            "184 2018-01-02             356.0                354.413170                356.049624\n",
            "185 2018-01-03             230.0                355.841317                356.039699\n",
            "186 2018-01-04             340.0                242.584132                330.831759\n",
            "187 2018-01-05             403.0                330.258413                332.665408\n",
            "188 2018-01-06             385.0                395.725841                346.732326\n",
            "189 2018-01-07             399.0                386.072584                354.385861\n",
            "190 2018-01-08             258.0                397.707258                363.308689\n",
            "191 2018-01-09             350.0                271.970726                342.246951\n",
            "192 2018-01-10             340.0                342.197073                343.797561\n",
            "193 2018-01-11             310.0                340.219707                343.038049\n",
            "194 2018-01-12             361.0                313.021971                336.430439\n",
            "195 2019-01-01             358.0                356.202197                341.344351\n",
            "196 2019-01-02             380.0                357.820220                344.675481\n",
            "197 2019-01-03             299.0                377.782022                351.740385\n",
            "198 2019-01-04             370.0                306.878202                341.192308\n",
            "199 2019-01-05             352.0                363.687820                346.953846\n",
            "200 2019-01-06             340.0                353.168782                347.963077\n",
            "201 2019-01-07             360.0                341.316878                346.370462\n",
            "202 2019-01-08             354.0                358.131688                349.096369\n",
            "203 2019-01-09             356.0                354.413169                350.077095\n",
            "204 2019-01-10             230.0                355.841317                351.261676\n",
            "205 2019-01-11             250.0                242.584132                327.009341\n",
            "206 2019-01-12             320.0                249.258413                311.607473\n",
            "207 2020-01-01             340.0                312.925841                313.285978\n",
            "208 2020-01-02             299.0                337.292584                318.628783\n",
            "209 2020-01-03             390.0                302.829258                314.703026\n",
            "210 2020-01-04             370.0                381.282926                329.762421\n",
            "211 2020-01-05             380.0                371.128293                337.809937\n",
            "212 2020-01-06             380.0                379.112829                346.247949\n",
            "213 2020-01-07             378.0                379.911283                352.998359\n",
            "214 2020-01-08             380.0                378.191128                357.998688\n",
            "215 2020-01-09             425.0                379.819113                362.398950\n",
            "216 2020-01-10             340.0                420.481911                374.919160\n",
            "217 2020-01-11             371.0                348.048191                367.935328\n",
            "218 2020-01-12             380.0                368.704819                368.548262\n",
            "219 2021-01-01             299.0                378.870482                370.838610\n",
            "220 2021-01-02             370.0                306.987048                356.470888\n",
            "221 2021-01-03             352.0                363.698705                359.176710\n",
            "222 2021-01-04             356.0                353.169871                357.741368\n",
            "223 2021-01-05             380.0                355.716987                357.393095\n",
            "224 2021-01-06             278.0                377.571699                361.914476\n",
            "225 2021-01-07             340.0                287.957170                345.131581\n",
            "226 2021-01-08             425.0                334.795717                344.105264\n",
            "227 2021-01-09             340.0                415.979572                360.284212\n",
            "228 2021-01-10             371.0                347.597957                356.227369\n",
            "229 2021-01-11             380.0                368.659796                359.181895\n",
            "230 2021-01-12             299.0                378.865980                363.345516\n",
            "231 2022-01-01             370.0                306.986598                350.476413\n",
            "232 2022-01-02             352.0                363.698660                354.381130\n",
            "233 2022-01-03             340.0                353.169866                353.904904\n",
            "234 2022-01-04             360.0                341.316987                351.123923\n",
            "235 2022-01-05             352.0                358.131699                352.899139\n",
            "236 2022-01-06             360.0                352.613170                352.719311\n",
            "237 2022-01-07             357.0                359.261317                354.175449\n",
            "238 2022-01-08             360.0                357.226132                354.740359\n",
            "239 2022-01-09             368.0                359.722613                355.792287\n",
            "240 2022-01-10             359.0                367.172261                358.233830\n",
            "241 2022-01-11             362.0                359.817226                358.387064\n",
            "242 2022-01-12             363.0                361.781723                359.109651\n",
            "243 2023-01-01               NaN                362.878172                359.887721\n"
          ]
        }
      ]
    },
    {
      "cell_type": "code",
      "source": [
        "plt.plot(dataset['Tanggal'], dataset['penjualan aktual'], label='penjualan aktual')\n",
        "plt.plot(dataset['Tanggal'], dataset['Hasil Ramalan ES (a=0,1)'], label='Hasil Ramalan ES (a=0,1)')\n",
        "plt.plot(dataset['Tanggal'], dataset['Hasil Ramalan ES (a=0,8)'], label='Hasil Ramalan ES (a=0,8)')\n",
        "plt.xlabel('Tahun')\n",
        "plt.ylabel('Penjualan dan Exponential Smoothing')\n",
        "plt.title('Penjualan Basreng (per unit) tahun 2002-2022')\n",
        "plt.grid(True)\n",
        "plt.show()"
      ],
      "metadata": {
        "colab": {
          "base_uri": "https://localhost:8080/",
          "height": 295
        },
        "id": "Kq0Ak5Qe-lzM",
        "outputId": "b637b112-b91f-4850-fe03-bcdb0b831606"
      },
      "execution_count": null,
      "outputs": [
        {
          "output_type": "display_data",
          "data": {
            "text/plain": [
              "<Figure size 432x288 with 1 Axes>"
            ],
            "image/png": "[encoded data removed]"
          },
          "metadata": {
            "needs_background": "light"
          }
        }
      ]
    },
    {
      "cell_type": "markdown",
      "source": [
        "# Moving Average"
      ],
      "metadata": {
        "id": "ZoWA94CJerj-"
      }
    },
    {
      "cell_type": "markdown",
      "source": [
        "**Moving average**\n",
        "\n",
        "metode peramalan yang menghitung rata-rata suatu nilai runtut waktu dan kemudian digunakan untuk memperkirakan nilai pada periode selanjutnya. Moving Average atau Rata-rata Bergerak diperoleh melalui penjumlahan dan pencarian nilai rata-rata dari sejumlah periode tertentu, kemudian menghilangkan nilai terlamanya dan menambah nilai baru.\n",
        "\n",
        "Metode Moving Average ini lebih baik digunakan untuk menghitung data yang bersifat stabil atau data yang tidak berfluktuasi dengan tajam (data yang perubahan naik dan turunnya sangat drastis). Hal ini dikarenakan data pada setiap periode diberikan bobot yang sama sehingga tidak dapat mewakilkan periode-periode tertentu yang bersifat khusus ataupun data periode terakhir yang biasanya dinilai sebagai data yang terbaik dalam mengambarkan kondisi terkini. Oleh karena itu, munculah Metode-metode Moving Average yang lain untuk mencoba mengatasinya, metode moving average yang lain diantaranya adalah Metode Weighted Moving Average (Rata-rata Bergerak Berbobot) atau disingkat dengan WMA dan Metode Exponential Smoothing (Metode Penghalusan Bertingkat).\n",
        "\n",
        "Rumus **Moving Average** atau Rata-rata Bergerak adalah sebagai berikut :\n",
        "\n",
        "MA = ΣX / Jumlah Periode\n",
        "\n",
        "Keterangan :\n",
        "MA = Moving Average\n",
        "ΣX  = Keseluruhan Penjumlahan dari semua data periode waktu yang diperhitungkan\n",
        "Jumlah Periode = Jumlah Periode Rata-rata bergerak\n",
        "\n",
        "atau dapat ditulis dengan :\n",
        "\n",
        "MA = (n1 + n2 + n3 + …) / n\n",
        "\n",
        "Keterangan :\n",
        "* MA = Moving Average\n",
        "* n1 = data periode pertama\n",
        "* n2 = data periode kedua\n",
        "* n3 = data periode ketiga dan seterusnya\n",
        "* n = Jumlah Periode Rata-rata bergerak"
      ],
      "metadata": {
        "id": "Dq-OzV_texxE"
      }
    },
    {
      "cell_type": "markdown",
      "source": [
        "**Contoh Kasus Cara Menghitung Moving Average**\n",
        "\n",
        "Sebuah perusahaan yang menjual basreng ingin membuat perkiraan penjualan produknya di pasar. Metode yang digunakan adalah metode Moving Average. dengan periode 3 dan 5.\n"
      ],
      "metadata": {
        "id": "PDCQCub2IHFW"
      }
    },
    {
      "cell_type": "markdown",
      "source": [
        "**Berikut contoh data penjualan per unit basreng serta hasil perkiraan kurun waktu 01/10/2002 - 01/12/2022 :**"
      ],
      "metadata": {
        "id": "ne6cfqXcVMLd"
      }
    },
    {
      "cell_type": "code",
      "source": [
        "from google.colab import files\n",
        "uploaded = files.upload()"
      ],
      "metadata": {
        "colab": {
          "resources": {
            "http://localhost:8080/nbextensions/google.colab/files.js": {
              "data": "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",
              "ok": true,
              "headers": [
                [
                  "content-type",
                  "application/javascript"
                ]
              ],
              "status": 200,
              "status_text": ""
            }
          },
          "base_uri": "https://localhost:8080/",
          "height": 94
        },
        "id": "ICMWvCawFS2C",
        "outputId": "65972e1c-39e3-4580-9f81-7668277ad9c8"
      },
      "execution_count": null,
      "outputs": [
        {
          "output_type": "display_data",
          "data": {
            "text/plain": [
              "<IPython.core.display.HTML object>"
            ],
            "text/html": [
              "\n",
              "     <input type=\"file\" id=\"files-5c25caf5-2d96-4b5a-879f-3eae492751d7\" name=\"files[]\" multiple disabled\n",
              "        style=\"border:none\" />\n",
              "     <output id=\"result-5c25caf5-2d96-4b5a-879f-3eae492751d7\">\n",
              "      Upload widget is only available when the cell has been executed in the\n",
              "      current browser session. Please rerun this cell to enable.\n",
              "      </output>\n",
              "      <script src=\"/nbextensions/google.colab/files.js\"></script> "
            ]
          },
          "metadata": {}
        },
        {
          "output_type": "stream",
          "name": "stdout",
          "text": [
            "Saving mabasreng.csv to mabasreng.csv\n"
          ]
        },
        {
          "output_type": "display_data",
          "data": {
            "text/plain": [
              "<IPython.core.display.HTML object>"
            ],
            "text/html": [
              "\n",
              "     <input type=\"file\" id=\"files-01c494f1-540c-44ce-94aa-407a1d010b07\" name=\"files[]\" multiple disabled\n",
              "        style=\"border:none\" />\n",
              "     <output id=\"result-01c494f1-540c-44ce-94aa-407a1d010b07\">\n",
              "      Upload widget is only available when the cell has been executed in the\n",
              "      current browser session. Please rerun this cell to enable.\n",
              "      </output>\n",
              "      <script src=\"/nbextensions/google.colab/files.js\"></script> "
            ]
          },
          "metadata": {}
        }
      ]
    },
    {
      "cell_type": "code",
      "source": [
        "# Mengimpor library\n",
        "import matplotlib.pyplot as plt\n",
        "import pandas as pd\n",
        " \n",
        "# Mengimpor dataset\n",
        "dataset = pd.read_csv('mabasreng.csv')\n",
        "dataset['Tanggal'] = pd.to_datetime(dataset['Tanggal'])\n",
        "print(dataset.to_string())"
      ],
      "metadata": {
        "colab": {
          "base_uri": "https://localhost:8080/"
        },
        "id": "Ls5eGop0Fq2P",
        "outputId": "a4a08565-175e-4e12-9586-fceb6e22e322"
      },
      "execution_count": null,
      "outputs": [
        {
          "output_type": "stream",
          "name": "stdout",
          "text": [
            "       Tanggal  Penjualan (unit)  Perkiraan(3)  Perkiraan(5)\n",
            "0   2002-01-10             290.0           NaN           NaN\n",
            "1   2002-01-11             312.0           NaN           NaN\n",
            "2   2002-01-12             241.0           NaN           NaN\n",
            "3   2003-01-01             290.0         281.0           NaN\n",
            "4   2003-01-02             287.0         281.0           NaN\n",
            "5   2003-01-03             276.0         273.0         284.0\n",
            "6   2003-01-04             289.0         284.0         281.0\n",
            "7   2003-01-05             290.0         284.0         277.0\n",
            "8   2003-01-06             289.0         285.0         286.0\n",
            "9   2003-01-07             291.0         289.0         286.0\n",
            "10  2003-01-08             301.0         290.0         287.0\n",
            "11  2003-01-09             295.0         294.0         292.0\n",
            "12  2003-01-10             298.0         296.0         293.0\n",
            "13  2003-01-11             305.0         298.0         295.0\n",
            "14  2003-01-12             400.0         299.0         298.0\n",
            "15  2004-01-01             340.0         334.0         320.0\n",
            "16  2004-01-02             280.0         348.0         328.0\n",
            "17  2004-01-03             340.0         340.0         325.0\n",
            "18  2004-01-04             310.0         320.0         333.0\n",
            "19  2004-01-05             406.0         310.0         334.0\n",
            "20  2004-01-06             340.0         352.0         335.0\n",
            "21  2004-01-07             280.0         352.0         335.0\n",
            "22  2004-01-08             440.0         342.0         335.0\n",
            "23  2004-01-09             290.0         353.0         355.0\n",
            "24  2004-01-10             340.0         337.0         351.0\n",
            "25  2004-01-11             365.0         357.0         338.0\n",
            "26  2004-01-12             377.0         332.0         343.0\n",
            "27  2005-01-01             370.0         361.0         362.0\n",
            "28  2005-01-02             289.0         371.0         348.0\n",
            "29  2005-01-03             345.0         345.0         348.0\n",
            "30  2005-01-04             340.0         335.0         349.0\n",
            "31  2005-01-05             196.0         325.0         344.0\n",
            "32  2005-01-06             334.0         294.0         308.0\n",
            "33  2005-01-07             567.0         290.0         301.0\n",
            "34  2005-01-08             370.0         366.0         356.0\n",
            "35  2005-01-09             424.0         424.0         361.0\n",
            "36  2005-01-10             356.0         454.0         378.0\n",
            "37  2005-01-11             390.0         383.0         410.0\n",
            "38  2005-01-12             390.0         390.0         421.0\n",
            "39  2006-01-01             380.0         379.0         386.0\n",
            "40  2006-01-02             390.0         387.0         388.0\n",
            "41  2006-01-03             387.0         387.0         381.0\n",
            "42  2006-01-04             403.0         386.0         387.0\n",
            "43  2006-01-05             385.0         393.0         390.0\n",
            "44  2006-01-06             399.0         392.0         389.0\n",
            "45  2006-01-07             258.0         396.0         393.0\n",
            "46  2006-01-08             350.0         347.0         366.0\n",
            "47  2006-01-09             340.0         336.0         359.0\n",
            "48  2006-01-10             310.0         316.0         346.0\n",
            "49  2006-01-11             340.0         333.0         331.0\n",
            "50  2006-01-12             290.0         330.0         320.0\n",
            "51  2007-01-01             340.0         313.0         326.0\n",
            "52  2007-01-02             490.0         323.0         324.0\n",
            "53  2007-01-03             472.0         373.0         354.0\n",
            "54  2007-01-04             506.0         434.0         386.0\n",
            "55  2007-01-05             440.0         489.0         420.0\n",
            "56  2007-01-06             473.0         473.0         450.0\n",
            "57  2007-01-07             544.0         473.0         476.0\n",
            "58  2007-01-08             500.0         486.0         487.0\n",
            "59  2007-01-09             520.0         506.0         493.0\n",
            "60  2007-01-10             368.0         521.0         495.0\n",
            "61  2007-01-11             470.0         463.0         481.0\n",
            "62  2007-01-12             460.0         453.0         480.0\n",
            "63  2008-01-01             413.0         433.0         464.0\n",
            "64  2008-01-02             389.0         448.0         446.0\n",
            "65  2008-01-03             425.0         421.0         420.0\n",
            "66  2008-01-04             439.0         409.0         431.0\n",
            "67  2008-01-05             298.0         418.0         425.0\n",
            "68  2008-01-06             387.0         387.0         393.0\n",
            "69  2008-01-07             375.0         375.0         388.0\n",
            "70  2008-01-08             380.0         353.0         385.0\n",
            "71  2008-01-09             340.0         381.0         376.0\n",
            "72  2008-01-10             368.0         365.0         356.0\n",
            "73  2008-01-11             347.0         363.0         370.0\n",
            "74  2008-01-12             356.0         352.0         362.0\n",
            "75  2009-01-01             380.0         357.0         358.0\n",
            "76  2009-01-02             278.0         361.0         358.0\n",
            "77  2009-01-03             340.0         338.0         346.0\n",
            "78  2009-01-04             425.0         333.0         340.0\n",
            "79  2009-01-05             340.0         348.0         356.0\n",
            "80  2009-01-06             371.0         368.0         353.0\n",
            "81  2009-01-07             380.0         379.0         351.0\n",
            "82  2009-01-08             299.0         364.0         371.0\n",
            "83  2009-01-09             370.0         350.0         363.0\n",
            "84  2009-01-10             352.0         350.0         352.0\n",
            "85  2009-01-11             340.0         340.0         354.0\n",
            "86  2009-01-12             360.0         354.0         348.0\n",
            "87  2010-01-01             354.0         351.0         344.0\n",
            "88  2010-01-02             356.0         351.0         355.0\n",
            "89  2010-01-03             230.0         357.0         352.0\n",
            "90  2010-01-04             250.0         313.0         328.0\n",
            "91  2010-01-05             320.0         279.0         310.0\n",
            "92  2010-01-06             340.0         267.0         302.0\n",
            "93  2010-01-07             299.0         303.0         299.0\n",
            "94  2010-01-08             323.0         320.0         288.0\n",
            "95  2010-01-09             310.0         321.0         306.0\n",
            "96  2010-01-10             330.0         311.0         318.0\n",
            "97  2010-01-11             325.0         321.0         320.0\n",
            "98  2010-01-12             340.0         322.0         317.0\n",
            "99  2011-01-01             279.0         332.0         326.0\n",
            "100 2011-01-02             320.0         315.0         317.0\n",
            "101 2011-01-03             320.0         313.0         319.0\n",
            "102 2011-01-04             340.0         306.0         317.0\n",
            "103 2011-01-05             290.0         327.0         320.0\n",
            "104 2011-01-06             327.0         317.0         310.0\n",
            "105 2011-01-07             330.0         319.0         319.0\n",
            "106 2011-01-08             268.0         316.0         321.0\n",
            "107 2011-01-09             320.0         308.0         311.0\n",
            "108 2011-01-10             316.0         306.0         307.0\n",
            "109 2011-01-11             323.0         301.0         312.0\n",
            "110 2011-01-12             322.0         320.0         311.0\n",
            "111 2012-01-01             320.0         320.0         310.0\n",
            "112 2012-01-02             340.0         322.0         320.0\n",
            "113 2012-01-03             360.0         327.0         324.0\n",
            "114 2012-01-04             345.0         340.0         333.0\n",
            "115 2012-01-05             361.0         348.0         337.0\n",
            "116 2012-01-06             358.0         355.0         345.0\n",
            "117 2012-01-07             355.0         355.0         353.0\n",
            "118 2012-01-08             390.0         358.0         356.0\n",
            "119 2012-01-09             370.0         368.0         362.0\n",
            "120 2012-01-10             380.0         372.0         367.0\n",
            "121 2012-01-11             380.0         380.0         371.0\n",
            "122 2012-01-12             378.0         377.0         375.0\n",
            "123 2013-01-01             380.0         379.0         380.0\n",
            "124 2013-01-02             379.0         379.0         378.0\n",
            "125 2013-01-03             279.0         379.0         379.0\n",
            "126 2013-01-04             360.0         346.0         359.0\n",
            "127 2013-01-05             355.0         339.0         355.0\n",
            "128 2013-01-06             358.0         331.0         351.0\n",
            "129 2013-01-07             358.0         358.0         346.0\n",
            "130 2013-01-08             403.0         357.0         342.0\n",
            "131 2013-01-09             385.0         373.0         367.0\n",
            "132 2013-01-10             399.0         382.0         372.0\n",
            "133 2013-01-11             258.0         396.0         381.0\n",
            "134 2013-01-12             350.0         347.0         361.0\n",
            "135 2014-01-01             340.0         336.0         359.0\n",
            "136 2014-01-02             310.0         316.0         346.0\n",
            "137 2014-01-03             340.0         333.0         331.0\n",
            "138 2014-01-04             290.0         330.0         320.0\n",
            "139 2014-01-05             340.0         313.0         326.0\n",
            "140 2014-01-06             490.0         323.0         324.0\n",
            "141 2014-01-07             298.0         373.0         354.0\n",
            "142 2014-01-08             305.0         376.0         352.0\n",
            "143 2014-01-09             400.0         364.0         345.0\n",
            "144 2014-01-10             340.0         334.0         367.0\n",
            "145 2014-01-11             280.0         348.0         367.0\n",
            "146 2014-01-12             340.0         340.0         325.0\n",
            "147 2015-01-01             310.0         320.0         333.0\n",
            "148 2015-01-02             406.0         310.0         334.0\n",
            "149 2015-01-03             380.0         352.0         335.0\n",
            "150 2015-01-04             378.0         365.0         343.0\n",
            "151 2015-01-05             380.0         388.0         363.0\n",
            "152 2015-01-06             379.0         379.0         371.0\n",
            "153 2015-01-07             279.0         379.0         385.0\n",
            "154 2015-01-08             360.0         346.0         359.0\n",
            "155 2015-01-09             355.0         339.0         355.0\n",
            "156 2015-01-10             358.0         331.0         351.0\n",
            "157 2015-01-11             358.0         358.0         346.0\n",
            "158 2015-01-12             403.0         357.0         342.0\n",
            "159 2016-01-01             385.0         373.0         367.0\n",
            "160 2016-01-02             399.0         382.0         372.0\n",
            "161 2016-01-03             258.0         396.0         381.0\n",
            "162 2016-01-04             350.0         347.0         361.0\n",
            "163 2016-01-05             340.0         336.0         359.0\n",
            "164 2016-01-06             310.0         316.0         346.0\n",
            "165 2016-01-07             361.0         333.0         331.0\n",
            "166 2016-01-08             358.0         337.0         324.0\n",
            "167 2016-01-09             355.0         343.0         344.0\n",
            "168 2016-01-10             390.0         358.0         345.0\n",
            "169 2016-01-11             370.0         368.0         355.0\n",
            "170 2016-01-12             380.0         372.0         367.0\n",
            "171 2017-01-01             380.0         380.0         371.0\n",
            "172 2017-01-02             378.0         377.0         375.0\n",
            "173 2017-01-03             380.0         379.0         380.0\n",
            "174 2017-01-04             425.0         379.0         378.0\n",
            "175 2017-01-05             340.0         394.0         389.0\n",
            "176 2017-01-06             371.0         382.0         381.0\n",
            "177 2017-01-07             380.0         379.0         379.0\n",
            "178 2017-01-08             299.0         364.0         379.0\n",
            "179 2017-01-09             370.0         350.0         363.0\n",
            "180 2017-01-10             352.0         350.0         352.0\n",
            "181 2017-01-11             340.0         340.0         354.0\n",
            "182 2017-01-12             360.0         354.0         348.0\n",
            "183 2018-01-01             354.0         351.0         344.0\n",
            "184 2018-01-02             356.0         351.0         355.0\n",
            "185 2018-01-03             230.0         357.0         352.0\n",
            "186 2018-01-04             340.0         313.0         328.0\n",
            "187 2018-01-05             403.0         309.0         328.0\n",
            "188 2018-01-06             385.0         324.0         337.0\n",
            "189 2018-01-07             399.0         376.0         343.0\n",
            "190 2018-01-08             258.0         396.0         351.0\n",
            "191 2018-01-09             350.0         347.0         357.0\n",
            "192 2018-01-10             340.0         336.0         359.0\n",
            "193 2018-01-11             310.0         316.0         346.0\n",
            "194 2018-01-12             361.0         333.0         331.0\n",
            "195 2019-01-01             358.0         337.0         324.0\n",
            "196 2019-01-02             380.0         343.0         344.0\n",
            "197 2019-01-03             299.0         366.0         350.0\n",
            "198 2019-01-04             370.0         346.0         342.0\n",
            "199 2019-01-05             352.0         350.0         354.0\n",
            "200 2019-01-06             340.0         340.0         352.0\n",
            "201 2019-01-07             360.0         354.0         348.0\n",
            "202 2019-01-08             354.0         351.0         344.0\n",
            "203 2019-01-09             356.0         351.0         355.0\n",
            "204 2019-01-10             230.0         357.0         352.0\n",
            "205 2019-01-11             250.0         313.0         328.0\n",
            "206 2019-01-12             320.0         279.0         310.0\n",
            "207 2020-01-01             340.0         267.0         302.0\n",
            "208 2020-01-02             299.0         303.0         299.0\n",
            "209 2020-01-03             390.0         320.0         288.0\n",
            "210 2020-01-04             370.0         343.0         320.0\n",
            "211 2020-01-05             380.0         353.0         344.0\n",
            "212 2020-01-06             380.0         380.0         356.0\n",
            "213 2020-01-07             378.0         377.0         364.0\n",
            "214 2020-01-08             380.0         379.0         380.0\n",
            "215 2020-01-09             425.0         379.0         378.0\n",
            "216 2020-01-10             340.0         394.0         389.0\n",
            "217 2020-01-11             371.0         382.0         381.0\n",
            "218 2020-01-12             380.0         379.0         379.0\n",
            "219 2021-01-01             299.0         364.0         379.0\n",
            "220 2021-01-02             370.0         350.0         363.0\n",
            "221 2021-01-03             352.0         350.0         352.0\n",
            "222 2021-01-04             356.0         340.0         354.0\n",
            "223 2021-01-05             380.0         359.0         351.0\n",
            "224 2021-01-06             278.0         363.0         351.0\n",
            "225 2021-01-07             340.0         338.0         347.0\n",
            "226 2021-01-08             425.0         333.0         341.0\n",
            "227 2021-01-09             340.0         348.0         356.0\n",
            "228 2021-01-10             371.0         368.0         353.0\n",
            "229 2021-01-11             380.0         379.0         351.0\n",
            "230 2021-01-12             299.0         364.0         371.0\n",
            "231 2022-01-01             370.0         350.0         363.0\n",
            "232 2022-01-02             352.0         350.0         352.0\n",
            "233 2022-01-03             340.0         340.0         354.0\n",
            "234 2022-01-04             360.0         354.0         348.0\n",
            "235 2022-01-05             352.0         351.0         344.0\n",
            "236 2022-01-06             360.0         351.0         355.0\n",
            "237 2022-01-07             357.0         357.0         353.0\n",
            "238 2022-01-08             360.0         356.0         354.0\n",
            "239 2022-01-09             368.0         359.0         358.0\n",
            "240 2022-01-10             359.0         362.0         359.0\n",
            "241 2022-01-11             362.0         362.0         361.0\n",
            "242 2022-01-12             363.0         363.0         361.0\n",
            "243        NaT               NaN           NaN           NaN\n",
            "244        NaT               NaN           NaN           NaN\n",
            "245        NaT               NaN           NaN           NaN\n",
            "246        NaT               NaN           NaN           NaN\n",
            "247        NaT               NaN           NaN           NaN\n",
            "248        NaT               NaN           NaN           NaN\n",
            "249        NaT               NaN           NaN           NaN\n"
          ]
        }
      ]
    },
    {
      "cell_type": "code",
      "source": [
        "plt.plot(dataset['Tanggal'], dataset['Penjualan (unit)'], label='Penjualan (unit)')\n",
        "plt.plot(dataset['Tanggal'], dataset['Perkiraan(3)'], label='Perkiraan(3)')\n",
        "plt.plot(dataset['Tanggal'], dataset['Perkiraan(5)'], label='Perkiraan(5)')\n",
        "plt.xlabel('Tahun')\n",
        "plt.ylabel('Penjualan dan Moving Average')\n",
        "plt.title('Penjualan Basreng (per unit) tahun 2002-2022')\n",
        "plt.grid(True)\n",
        "plt.legend()"
      ],
      "metadata": {
        "colab": {
          "base_uri": "https://localhost:8080/",
          "height": 312
        },
        "id": "YLPsBl9XT4Zw",
        "outputId": "005a5346-ad21-42e0-fe3f-097a95af55ed"
      },
      "execution_count": null,
      "outputs": [
        {
          "output_type": "execute_result",
          "data": {
            "text/plain": [
              "<matplotlib.legend.Legend at 0x7f7cf3bdfd50>"
            ]
          },
          "metadata": {},
          "execution_count": 31
        },
        {
          "output_type": "display_data",
          "data": {
            "text/plain": [
              "<Figure size 432x288 with 1 Axes>"
            ],
            "image/png": "[encoded data removed]"
          },
          "metadata": {
            "needs_background": "light"
          }
        }
      ]
    }
  ]
}